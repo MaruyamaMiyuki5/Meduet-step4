{
 "cells": [
  {
   "cell_type": "code",
   "execution_count": 2,
   "metadata": {},
   "outputs": [],
   "source": [
    "import mysql.connector\n",
    "from mysql.connector import errorcode\n",
    "\n",
    "# Obtain connection string information from the portal\n",
    "\n",
    "config = {\n",
    "  'host':'tech0-db-step4-studentrdb-9.mysql.database.azure.com',\n",
    "  'user':'tech0gen5student',\n",
    "  'password':'vY7JZNfU9',\n",
    "  'database':'mydatabase'\n",
    "}\n",
    "\n"
   ]
  },
  {
   "cell_type": "code",
   "execution_count": 4,
   "metadata": {},
   "outputs": [
    {
     "name": "stdout",
     "output_type": "stream",
     "text": [
      "Connection established\n"
     ]
    }
   ],
   "source": [
    "# Construct connection string\n",
    "\n",
    "try:\n",
    "   conn = mysql.connector.connect(**config)\n",
    "   print(\"Connection established\")\n",
    "except mysql.connector.Error as err:\n",
    "  if err.errno == errorcode.ER_ACCESS_DENIED_ERROR:\n",
    "    print(\"Something is wrong with the user name or password\")\n",
    "  elif err.errno == errorcode.ER_BAD_DB_ERROR:\n",
    "    print(\"Database does not exist\")\n",
    "  else:\n",
    "    print(err)\n",
    "else:\n",
    "  cursor = conn.cursor()\n",
    "\n"
   ]
  },
  {
   "cell_type": "code",
   "execution_count": 5,
   "metadata": {},
   "outputs": [
    {
     "name": "stdout",
     "output_type": "stream",
     "text": [
      "Finished dropping table (if existed).\n"
     ]
    }
   ],
   "source": [
    "# Drop previous table of same name if one exists\n",
    "cursor.execute(\"DROP TABLE IF EXISTS inventory;\")\n",
    "print(\"Finished dropping table (if existed).\")\n",
    "\n"
   ]
  },
  {
   "cell_type": "code",
   "execution_count": 9,
   "metadata": {},
   "outputs": [],
   "source": [
    "# Create table\n",
    "\n",
    "cursor.execute(\"\"\"\n",
    "CREATE TABLE products (\n",
    "    PRD_ID VARCHAR(255) NOT NULL,\n",
    "    PRD_CD VARCHAR(255) NOT NULL,\n",
    "    PRD_NAME VARCHAR(255) NOT NULL,\n",
    "    PRD_PRICE DECIMAL(10, 2) NOT NULL,\n",
    "    PRIMARY KEY (PRD_ID)\n",
    ");\n",
    "\"\"\")\n"
   ]
  },
  {
   "cell_type": "code",
   "execution_count": 10,
   "metadata": {},
   "outputs": [],
   "source": [
    "cursor.execute(\"\"\"\n",
    "INSERT INTO products (PRD_ID, PRD_CD, PRD_NAME, PRD_PRICE) VALUES\n",
    "    ('001', '4902220772414', 'クリアアサヒ', 178),\n",
    "    ('002', '4901330560782', '堅あげポテト プッチ４ うすしお味', 158),\n",
    "    ('003', '4902777026107', 'ミルクチョコレートＢＯＸ 120g', 358);\n",
    "\"\"\")\n"
   ]
  },
  {
   "cell_type": "code",
   "execution_count": 11,
   "metadata": {},
   "outputs": [
    {
     "name": "stdout",
     "output_type": "stream",
     "text": [
      "Done.\n"
     ]
    }
   ],
   "source": [
    "\n",
    "# Cleanup\n",
    "conn.commit()\n",
    "cursor.close()\n",
    "conn.close()\n",
    "print(\"Done.\")"
   ]
  },
  {
   "cell_type": "code",
   "execution_count": 13,
   "metadata": {},
   "outputs": [],
   "source": [
    "import mysql.connector\n",
    "from mysql.connector import errorcode\n",
    "\n",
    "# Obtain connection string information from the portal\n",
    "\n",
    "config = {\n",
    "  'host':'tech0-db-step4-studentrdb-9.mysql.database.azure.com',\n",
    "  'user':'tech0gen5student',\n",
    "  'password':'vY7JZNfU9',\n",
    "  'database':'mydatabase'\n",
    "}\n",
    "\n"
   ]
  },
  {
   "cell_type": "code",
   "execution_count": 14,
   "metadata": {},
   "outputs": [
    {
     "name": "stdout",
     "output_type": "stream",
     "text": [
      "Connection established\n"
     ]
    }
   ],
   "source": [
    "# Construct connection string\n",
    "\n",
    "try:\n",
    "   conn = mysql.connector.connect(**config)\n",
    "   print(\"Connection established\")\n",
    "except mysql.connector.Error as err:\n",
    "  if err.errno == errorcode.ER_ACCESS_DENIED_ERROR:\n",
    "    print(\"Something is wrong with the user name or password\")\n",
    "  elif err.errno == errorcode.ER_BAD_DB_ERROR:\n",
    "    print(\"Database does not exist\")\n",
    "  else:\n",
    "    print(err)\n",
    "else:\n",
    "  cursor = conn.cursor()"
   ]
  },
  {
   "cell_type": "code",
   "execution_count": 15,
   "metadata": {},
   "outputs": [
    {
     "name": "stdout",
     "output_type": "stream",
     "text": [
      "Read 3 row(s) of data.\n"
     ]
    }
   ],
   "source": [
    " # Read data\n",
    "cursor.execute(\"SELECT * FROM products;\")\n",
    "rows = cursor.fetchall()\n",
    "print(\"Read\",cursor.rowcount,\"row(s) of data.\")\n"
   ]
  },
  {
   "cell_type": "code",
   "execution_count": 18,
   "metadata": {},
   "outputs": [
    {
     "name": "stdout",
     "output_type": "stream",
     "text": [
      "Data row = (001, 4902220772414, クリアアサヒ)\n",
      "Data row = (002, 4901330560782, 堅あげポテト プッチ４ うすしお味)\n",
      "Data row = (003, 4902777026107, ミルクチョコレートＢＯＸ 120g)\n"
     ]
    }
   ],
   "source": [
    "# Print all rows\n",
    "for row in rows:\n",
    " print(\"Data row = (%s, %s, %s)\" %(str(row[0]), str(row[1]), str(row[2])))"
   ]
  }
 ],
 "metadata": {
  "kernelspec": {
   "display_name": "Python 3",
   "language": "python",
   "name": "python3"
  },
  "language_info": {
   "codemirror_mode": {
    "name": "ipython",
    "version": 3
   },
   "file_extension": ".py",
   "mimetype": "text/x-python",
   "name": "python",
   "nbconvert_exporter": "python",
   "pygments_lexer": "ipython3",
   "version": "3.11.4"
  }
 },
 "nbformat": 4,
 "nbformat_minor": 2
}
